{
 "nbformat": 4,
 "nbformat_minor": 0,
 "metadata": {
  "colab": {
   "provenance": [],
   "gpuType": "T4"
  },
  "kernelspec": {
   "name": "python3",
   "display_name": "Python 3"
  },
  "language_info": {
   "name": "python"
  },
  "accelerator": "GPU"
 },
 "cells": [
  {
   "cell_type": "markdown",
   "source": [
    "# Install needed libraries"
   ],
   "metadata": {
    "collapsed": false
   }
  },
  {
   "cell_type": "code",
   "execution_count": 1,
   "metadata": {
    "id": "ZaFoveEt5TfH"
   },
   "outputs": [],
   "source": [
    "%%capture\n",
    "!pip install transformers sacremoses newspaper3k streamlit"
   ]
  },
  {
   "cell_type": "markdown",
   "source": [
    "# Install localtunnel"
   ],
   "metadata": {
    "collapsed": false
   }
  },
  {
   "cell_type": "code",
   "source": [
    "!npm install localtunnel"
   ],
   "metadata": {
    "colab": {
     "base_uri": "https://localhost:8080/"
    },
    "id": "T7hljHf9M3SV",
    "outputId": "707f15b2-d398-45a7-d329-44fb7548cdd0"
   },
   "execution_count": 2,
   "outputs": [
    {
     "output_type": "stream",
     "name": "stdout",
     "text": [
      "\u001B[K\u001B[?25h\u001B[37;40mnpm\u001B[0m \u001B[0m\u001B[30;43mWARN\u001B[0m \u001B[0m\u001B[35msaveError\u001B[0m ENOENT: no such file or directory, open '/content/package.json'\n",
      "\u001B[K\u001B[?25h\u001B[37;40mnpm\u001B[0m \u001B[0m\u001B[34;40mnotice\u001B[0m\u001B[35m\u001B[0m created a lockfile as package-lock.json. You should commit this file.\n",
      "\u001B[0m\u001B[37;40mnpm\u001B[0m \u001B[0m\u001B[30;43mWARN\u001B[0m \u001B[0m\u001B[35menoent\u001B[0m ENOENT: no such file or directory, open '/content/package.json'\n",
      "\u001B[0m\u001B[37;40mnpm\u001B[0m \u001B[0m\u001B[30;43mWARN\u001B[0m\u001B[35m\u001B[0m content No description\n",
      "\u001B[0m\u001B[37;40mnpm\u001B[0m \u001B[0m\u001B[30;43mWARN\u001B[0m\u001B[35m\u001B[0m content No repository field.\n",
      "\u001B[0m\u001B[37;40mnpm\u001B[0m \u001B[0m\u001B[30;43mWARN\u001B[0m\u001B[35m\u001B[0m content No README data\n",
      "\u001B[0m\u001B[37;40mnpm\u001B[0m \u001B[0m\u001B[30;43mWARN\u001B[0m\u001B[35m\u001B[0m content No license field.\n",
      "\u001B[0m\n",
      "+ localtunnel@2.0.2\n",
      "added 22 packages from 22 contributors and audited 22 packages in 1.762s\n",
      "\n",
      "3 packages are looking for funding\n",
      "  run `npm fund` for details\n",
      "\n",
      "found \u001B[92m0\u001B[0m vulnerabilities\n",
      "\n",
      "\u001B[K\u001B[?25h"
     ]
    }
   ]
  },
  {
   "cell_type": "markdown",
   "source": [
    "# Create a streamlit app"
   ],
   "metadata": {
    "collapsed": false
   }
  },
  {
   "cell_type": "code",
   "source": [
    "%%writefile app.py\n",
    "from transformers import pipeline, AutoModelForSeq2SeqLM, AutoTokenizer\n",
    "import streamlit as st\n",
    "import newspaper\n",
    "import nltk\n",
    "\n",
    "nltk.download('punkt')\n",
    "\n",
    "# Load the models and tokenizers\n",
    "summarizer_model_name = \"facebook/bart-large-cnn\"\n",
    "translator_model_name = \"facebook/wmt19-en-ru\"\n",
    "tokenizer_name = \"facebook/bart-large-cnn\"\n",
    "\n",
    "summarizer_tokenizer = AutoTokenizer.from_pretrained(summarizer_model_name)\n",
    "summarizer_model = AutoModelForSeq2SeqLM.from_pretrained(summarizer_model_name)\n",
    "\n",
    "translator_tokenizer = AutoTokenizer.from_pretrained(translator_model_name)\n",
    "translator_model = AutoModelForSeq2SeqLM.from_pretrained(translator_model_name)\n",
    "\n",
    "\n",
    "def summarize_text(text, tokenizer, model, max_length=512, min_length=30):\n",
    "    inputs = tokenizer(text, max_length=max_length, truncation=True, return_tensors='pt')\n",
    "    summary_ids = model.generate(inputs.input_ids, num_beams=4, max_length=max_length, min_length=min_length, early_stopping=True)\n",
    "    summary = tokenizer.decode(summary_ids[0], skip_special_tokens=True)\n",
    "    return summary\n",
    "\n",
    "\n",
    "def translate_text(text, tokenizer, model, max_length=512):\n",
    "    inputs = tokenizer(text, max_length=max_length, truncation=True, return_tensors='pt')\n",
    "    translation_ids = model.generate(inputs.input_ids, num_beams=4, max_length=max_length, early_stopping=True)\n",
    "    translation = tokenizer.decode(translation_ids[0], skip_special_tokens=True)\n",
    "    return translation\n",
    "\n",
    "\n",
    "# Define the streamlit app\n",
    "st.title('Article Summarizer and Translation')\n",
    "\n",
    "url = st.text_input('', placeholder='Paste the URL of the article and press Enter')\n",
    "\n",
    "if url:\n",
    "    try:\n",
    "        article = newspaper.Article(url)\n",
    "        article.download()\n",
    "        article.parse()\n",
    "\n",
    "        img = article.top_image\n",
    "        st.image(img)\n",
    "\n",
    "        title = article.title\n",
    "        st.subheader(title)\n",
    "\n",
    "        article.nlp()\n",
    "\n",
    "        tab1, tab2, tab3 = st.columns(3)\n",
    "\n",
    "        with tab1:\n",
    "            st.subheader('Full Text')\n",
    "            txt = article.text.replace('Advertisement', '')\n",
    "            st.write(txt)\n",
    "\n",
    "        with tab2:\n",
    "            st.subheader('Summary')\n",
    "            summary = summarize_text(txt, summarizer_tokenizer, summarizer_model)\n",
    "            st.write(summary)\n",
    "\n",
    "        with tab3:\n",
    "            st.subheader('Russian Translation')\n",
    "            translation = translate_text(summary, translator_tokenizer, translator_model)\n",
    "            st.write(translation)\n",
    "\n",
    "    except:\n",
    "        st.error('Sorry, something went wrong')\n"
   ],
   "metadata": {
    "colab": {
     "base_uri": "https://localhost:8080/"
    },
    "id": "Ng9dnaWbTNp-",
    "outputId": "ea9da449-6638-466c-f823-3afe14a8c52f"
   },
   "execution_count": 3,
   "outputs": [
    {
     "output_type": "stream",
     "name": "stdout",
     "text": [
      "Writing app.py\n"
     ]
    }
   ]
  },
  {
   "cell_type": "markdown",
   "source": [
    "# Run streamlit in background and expose the port 8501\n",
    "Then just click in the url showed.\n",
    "A log.txtfile will be created."
   ],
   "metadata": {
    "collapsed": false
   }
  },
  {
   "cell_type": "code",
   "source": [
    "!streamlit run /content/app.py &>/content/logs.txt & npx localtunnel --port 8501 & curl ipv4.icanhazip.com"
   ],
   "metadata": {
    "colab": {
     "base_uri": "https://localhost:8080/"
    },
    "id": "cMnPJ8jLTNhg",
    "outputId": "1129ada1-98a3-458d-f202-ae5fc13fc4d5"
   },
   "execution_count": 4,
   "outputs": [
    {
     "metadata": {
      "tags": null
     },
     "name": "stdout",
     "output_type": "stream",
     "text": [
      "34.86.166.111\n",
      "\u001B[K\u001B[?25hnpx: installed 22 in 2.114s\n",
      "your url is: https://quiet-items-behave.loca.lt\n"
     ]
    }
   ]
  },
  {
   "cell_type": "markdown",
   "source": [],
   "metadata": {
    "collapsed": false
   }
  }
 ]
}
