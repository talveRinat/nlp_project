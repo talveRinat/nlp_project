{
  "nbformat": 4,
  "nbformat_minor": 0,
  "metadata": {
    "colab": {
      "provenance": [],
      "gpuType": "T4"
    },
    "kernelspec": {
      "name": "python3",
      "display_name": "Python 3"
    },
    "language_info": {
      "name": "python"
    },
    "accelerator": "GPU"
  },
  "cells": [
    {
      "cell_type": "code",
      "execution_count": 1,
      "metadata": {
        "id": "4a19qbShgvXC"
      },
      "outputs": [],
      "source": [
        "%%capture\n",
        "!pip install transformers sentencepiece sacremoses datasets sacrebleu"
      ]
    },
    {
      "cell_type": "code",
      "source": [
        "import pandas as pd\n",
        "from transformers import AutoModelForSeq2SeqLM, AutoTokenizer\n",
        "from datasets import load_dataset\n",
        "from sacrebleu.metrics import BLEU, CHRF, TER\n",
        "import time"
      ],
      "metadata": {
        "id": "jNZ6ySGkgy8X"
      },
      "execution_count": 2,
      "outputs": []
    },
    {
      "cell_type": "code",
      "source": [
        "models = [\n",
        "    \"facebook/wmt19-en-ru\", \n",
        "    \"facebook/nllb-200-distilled-600M\", \n",
        "    \"Helsinki-NLP/opus-mt-en-ru\"\n",
        "    ]"
      ],
      "metadata": {
        "id": "GzKZocILgzzX"
      },
      "execution_count": 3,
      "outputs": []
    },
    {
      "cell_type": "code",
      "source": [
        "dataset = load_dataset(\"wmt16\", \"ru-en\", split=\"test[:3%]\")\n",
        "translations = dataset[\"translation\"]\n",
        "source_texts = [translation['ru'] for translation in translations]\n",
        "target_texts = [translation['en'] for translation in translations]"
      ],
      "metadata": {
        "colab": {
          "base_uri": "https://localhost:8080/"
        },
        "id": "FerJH-VtgzsF",
        "outputId": "9fbf2444-d4df-4b30-a89f-ed707b764c0b"
      },
      "execution_count": 4,
      "outputs": [
        {
          "output_type": "stream",
          "name": "stderr",
          "text": [
            "WARNING:datasets.builder:Found cached dataset wmt16 (/root/.cache/huggingface/datasets/wmt16/ru-en/1.0.0/746749a11d25c02058042da7502d973ff410e73457f3d305fc1177dc0e8c4227)\n"
          ]
        }
      ]
    },
    {
      "cell_type": "code",
      "source": [
        "def translate_text(model, model_name, text):\n",
        "    tokenizer = AutoTokenizer.from_pretrained(model_name)\n",
        "    inputs = tokenizer.encode(text, return_tensors=\"pt\", padding=True)\n",
        "    start_time = time.time()\n",
        "    outputs = model.generate(inputs.to(model.device))\n",
        "    end_time = time.time()\n",
        "    decoded = tokenizer.decode(outputs[0], skip_special_tokens=True)\n",
        "    return decoded, end_time - start_time"
      ],
      "metadata": {
        "id": "90DCp-bMgzoa"
      },
      "execution_count": 5,
      "outputs": []
    },
    {
      "cell_type": "code",
      "source": [
        "results = []"
      ],
      "metadata": {
        "id": "rH3O8vi7gzkM"
      },
      "execution_count": 6,
      "outputs": []
    },
    {
      "cell_type": "code",
      "source": [
        "for model_name in models:\n",
        "    model = AutoModelForSeq2SeqLM.from_pretrained(model_name)\n",
        "    model.to(\"cuda\")\n",
        "    translations = []\n",
        "    total_time = 0\n",
        "    \n",
        "    for source_text in source_texts:\n",
        "        translation, time_taken = translate_text(model, model_name, source_text)\n",
        "        translations.append(translation)\n",
        "        total_time += time_taken\n",
        "    \n",
        "    \n",
        "    chrf = CHRF()\n",
        "    chrf_score = chrf.corpus_score(translations, target_texts).score\n",
        "    \n",
        "    bleu = BLEU()\n",
        "    bleu_score = bleu.corpus_score(translations, target_texts).score\n",
        "\n",
        "    ter = TER()\n",
        "    ter_score = ter.corpus_score(translations, [target_texts]).score\n",
        "    avg_time = total_time / len(source_texts)\n",
        "    \n",
        "    result = {\n",
        "        \"Model name\": model_name,\n",
        "        \"Number of params\": model.num_parameters(),\n",
        "        \"Speed(seconds)\": avg_time,\n",
        "        \"CHRF Score\": chrf_score,\n",
        "        \"BLEU Score\": bleu_score,\n",
        "        \"TER Score\": ter_score,\n",
        "    }\n",
        "    results.append(result)\n",
        "\n",
        "df = pd.DataFrame(results)"
      ],
      "metadata": {
        "colab": {
          "base_uri": "https://localhost:8080/"
        },
        "id": "fYIGKaVNgzak",
        "outputId": "cc28e88e-dbb5-4372-cc6a-67eda0b69772"
      },
      "execution_count": 7,
      "outputs": [
        {
          "output_type": "stream",
          "name": "stderr",
          "text": [
            "/usr/local/lib/python3.10/dist-packages/transformers/generation/utils.py:1346: UserWarning: Using `max_length`'s default (200) to control the generation length. This behaviour is deprecated and will be removed from the config in v5 of Transformers -- we recommend using `max_new_tokens` to control the maximum length of the generation.\n",
            "  warnings.warn(\n",
            "/usr/local/lib/python3.10/dist-packages/transformers/generation/utils.py:1346: UserWarning: Using `max_length`'s default (200) to control the generation length. This behaviour is deprecated and will be removed from the config in v5 of Transformers -- we recommend using `max_new_tokens` to control the maximum length of the generation.\n",
            "  warnings.warn(\n",
            "/usr/local/lib/python3.10/dist-packages/transformers/generation/utils.py:1346: UserWarning: Using `max_length`'s default (512) to control the generation length. This behaviour is deprecated and will be removed from the config in v5 of Transformers -- we recommend using `max_new_tokens` to control the maximum length of the generation.\n",
            "  warnings.warn(\n"
          ]
        }
      ]
    },
    {
      "cell_type": "code",
      "source": [
        "df"
      ],
      "metadata": {
        "colab": {
          "base_uri": "https://localhost:8080/",
          "height": 142
        },
        "id": "S8z_yZamhB8o",
        "outputId": "df660735-87b0-46d0-bbc2-52ca1e26dd5f"
      },
      "execution_count": 8,
      "outputs": [
        {
          "output_type": "execute_result",
          "data": {
            "text/plain": [
              "                         Model name  Number of params  Speed(seconds)  \\\n",
              "0              facebook/wmt19-en-ru         293195776        0.388051   \n",
              "1  facebook/nllb-200-distilled-600M         615073792        0.600816   \n",
              "2        Helsinki-NLP/opus-mt-en-ru          76672000        1.139953   \n",
              "\n",
              "   CHRF Score  BLEU Score   TER Score  \n",
              "0    2.788104    0.190268  104.297994  \n",
              "1    3.472222    0.169931  109.283668  \n",
              "2    3.220612    0.113596  146.762178  "
            ],
            "text/html": [
              "\n",
              "  <div id=\"df-cc6293d7-c9c0-477b-9b21-3d96da83de9f\">\n",
              "    <div class=\"colab-df-container\">\n",
              "      <div>\n",
              "<style scoped>\n",
              "    .dataframe tbody tr th:only-of-type {\n",
              "        vertical-align: middle;\n",
              "    }\n",
              "\n",
              "    .dataframe tbody tr th {\n",
              "        vertical-align: top;\n",
              "    }\n",
              "\n",
              "    .dataframe thead th {\n",
              "        text-align: right;\n",
              "    }\n",
              "</style>\n",
              "<table border=\"1\" class=\"dataframe\">\n",
              "  <thead>\n",
              "    <tr style=\"text-align: right;\">\n",
              "      <th></th>\n",
              "      <th>Model name</th>\n",
              "      <th>Number of params</th>\n",
              "      <th>Speed(seconds)</th>\n",
              "      <th>CHRF Score</th>\n",
              "      <th>BLEU Score</th>\n",
              "      <th>TER Score</th>\n",
              "    </tr>\n",
              "  </thead>\n",
              "  <tbody>\n",
              "    <tr>\n",
              "      <th>0</th>\n",
              "      <td>facebook/wmt19-en-ru</td>\n",
              "      <td>293195776</td>\n",
              "      <td>0.388051</td>\n",
              "      <td>2.788104</td>\n",
              "      <td>0.190268</td>\n",
              "      <td>104.297994</td>\n",
              "    </tr>\n",
              "    <tr>\n",
              "      <th>1</th>\n",
              "      <td>facebook/nllb-200-distilled-600M</td>\n",
              "      <td>615073792</td>\n",
              "      <td>0.600816</td>\n",
              "      <td>3.472222</td>\n",
              "      <td>0.169931</td>\n",
              "      <td>109.283668</td>\n",
              "    </tr>\n",
              "    <tr>\n",
              "      <th>2</th>\n",
              "      <td>Helsinki-NLP/opus-mt-en-ru</td>\n",
              "      <td>76672000</td>\n",
              "      <td>1.139953</td>\n",
              "      <td>3.220612</td>\n",
              "      <td>0.113596</td>\n",
              "      <td>146.762178</td>\n",
              "    </tr>\n",
              "  </tbody>\n",
              "</table>\n",
              "</div>\n",
              "      <button class=\"colab-df-convert\" onclick=\"convertToInteractive('df-cc6293d7-c9c0-477b-9b21-3d96da83de9f')\"\n",
              "              title=\"Convert this dataframe to an interactive table.\"\n",
              "              style=\"display:none;\">\n",
              "        \n",
              "  <svg xmlns=\"http://www.w3.org/2000/svg\" height=\"24px\"viewBox=\"0 0 24 24\"\n",
              "       width=\"24px\">\n",
              "    <path d=\"M0 0h24v24H0V0z\" fill=\"none\"/>\n",
              "    <path d=\"M18.56 5.44l.94 2.06.94-2.06 2.06-.94-2.06-.94-.94-2.06-.94 2.06-2.06.94zm-11 1L8.5 8.5l.94-2.06 2.06-.94-2.06-.94L8.5 2.5l-.94 2.06-2.06.94zm10 10l.94 2.06.94-2.06 2.06-.94-2.06-.94-.94-2.06-.94 2.06-2.06.94z\"/><path d=\"M17.41 7.96l-1.37-1.37c-.4-.4-.92-.59-1.43-.59-.52 0-1.04.2-1.43.59L10.3 9.45l-7.72 7.72c-.78.78-.78 2.05 0 2.83L4 21.41c.39.39.9.59 1.41.59.51 0 1.02-.2 1.41-.59l7.78-7.78 2.81-2.81c.8-.78.8-2.07 0-2.86zM5.41 20L4 18.59l7.72-7.72 1.47 1.35L5.41 20z\"/>\n",
              "  </svg>\n",
              "      </button>\n",
              "      \n",
              "  <style>\n",
              "    .colab-df-container {\n",
              "      display:flex;\n",
              "      flex-wrap:wrap;\n",
              "      gap: 12px;\n",
              "    }\n",
              "\n",
              "    .colab-df-convert {\n",
              "      background-color: #E8F0FE;\n",
              "      border: none;\n",
              "      border-radius: 50%;\n",
              "      cursor: pointer;\n",
              "      display: none;\n",
              "      fill: #1967D2;\n",
              "      height: 32px;\n",
              "      padding: 0 0 0 0;\n",
              "      width: 32px;\n",
              "    }\n",
              "\n",
              "    .colab-df-convert:hover {\n",
              "      background-color: #E2EBFA;\n",
              "      box-shadow: 0px 1px 2px rgba(60, 64, 67, 0.3), 0px 1px 3px 1px rgba(60, 64, 67, 0.15);\n",
              "      fill: #174EA6;\n",
              "    }\n",
              "\n",
              "    [theme=dark] .colab-df-convert {\n",
              "      background-color: #3B4455;\n",
              "      fill: #D2E3FC;\n",
              "    }\n",
              "\n",
              "    [theme=dark] .colab-df-convert:hover {\n",
              "      background-color: #434B5C;\n",
              "      box-shadow: 0px 1px 3px 1px rgba(0, 0, 0, 0.15);\n",
              "      filter: drop-shadow(0px 1px 2px rgba(0, 0, 0, 0.3));\n",
              "      fill: #FFFFFF;\n",
              "    }\n",
              "  </style>\n",
              "\n",
              "      <script>\n",
              "        const buttonEl =\n",
              "          document.querySelector('#df-cc6293d7-c9c0-477b-9b21-3d96da83de9f button.colab-df-convert');\n",
              "        buttonEl.style.display =\n",
              "          google.colab.kernel.accessAllowed ? 'block' : 'none';\n",
              "\n",
              "        async function convertToInteractive(key) {\n",
              "          const element = document.querySelector('#df-cc6293d7-c9c0-477b-9b21-3d96da83de9f');\n",
              "          const dataTable =\n",
              "            await google.colab.kernel.invokeFunction('convertToInteractive',\n",
              "                                                     [key], {});\n",
              "          if (!dataTable) return;\n",
              "\n",
              "          const docLinkHtml = 'Like what you see? Visit the ' +\n",
              "            '<a target=\"_blank\" href=https://colab.research.google.com/notebooks/data_table.ipynb>data table notebook</a>'\n",
              "            + ' to learn more about interactive tables.';\n",
              "          element.innerHTML = '';\n",
              "          dataTable['output_type'] = 'display_data';\n",
              "          await google.colab.output.renderOutput(dataTable, element);\n",
              "          const docLink = document.createElement('div');\n",
              "          docLink.innerHTML = docLinkHtml;\n",
              "          element.appendChild(docLink);\n",
              "        }\n",
              "      </script>\n",
              "    </div>\n",
              "  </div>\n",
              "  "
            ]
          },
          "metadata": {},
          "execution_count": 8
        }
      ]
    }
  ]
}