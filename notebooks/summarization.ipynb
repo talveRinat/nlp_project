{
 "metadata": {
  "kernelspec": {
   "language": "python",
   "display_name": "Python 3",
   "name": "python3"
  },
  "language_info": {
   "name": "python",
   "version": "3.10.10",
   "mimetype": "text/x-python",
   "codemirror_mode": {
    "name": "ipython",
    "version": 3
   },
   "pygments_lexer": "ipython3",
   "nbconvert_exporter": "python",
   "file_extension": ".py"
  }
 },
 "nbformat_minor": 4,
 "nbformat": 4,
 "cells": [
  {
   "cell_type": "code",
   "source": [
    "%%capture\n",
    "!pip install torch transformers datasets nltk rouge_score"
   ],
   "metadata": {
    "execution": {
     "iopub.status.busy": "2023-05-18T12:12:36.239037Z",
     "iopub.execute_input": "2023-05-18T12:12:36.239432Z",
     "iopub.status.idle": "2023-05-18T12:12:50.926864Z",
     "shell.execute_reply.started": "2023-05-18T12:12:36.239383Z",
     "shell.execute_reply": "2023-05-18T12:12:50.925537Z"
    },
    "trusted": true
   },
   "execution_count": 1,
   "outputs": []
  },
  {
   "cell_type": "code",
   "source": [
    "from transformers import (\n",
    "    ProphetNetForConditionalGeneration,\n",
    "    ProphetNetTokenizer,\n",
    "    PegasusForConditionalGeneration,\n",
    "    PegasusTokenizer,\n",
    "    BartForConditionalGeneration,\n",
    "    BartTokenizer,\n",
    ")\n",
    "\n",
    "import torch\n",
    "from torch.utils.data import DataLoader\n",
    "\n",
    "from datasets import load_dataset\n",
    "from datasets import load_metric\n",
    "from nltk.translate.bleu_score import corpus_bleu\n",
    "\n",
    "import time\n",
    "import pandas as pd\n",
    "\n",
    "import nltk\n",
    "nltk.download('wordnet')\n",
    "nltk.download('punkt')"
   ],
   "metadata": {
    "execution": {
     "iopub.status.busy": "2023-05-18T12:12:50.929532Z",
     "iopub.execute_input": "2023-05-18T12:12:50.929926Z",
     "iopub.status.idle": "2023-05-18T12:13:04.133589Z",
     "shell.execute_reply.started": "2023-05-18T12:12:50.929886Z",
     "shell.execute_reply": "2023-05-18T12:13:04.132081Z"
    },
    "trusted": true
   },
   "execution_count": 2,
   "outputs": [
    {
     "name": "stderr",
     "text": "/opt/conda/lib/python3.10/site-packages/scipy/__init__.py:146: UserWarning: A NumPy version >=1.16.5 and <1.23.0 is required for this version of SciPy (detected version 1.23.5\n  warnings.warn(f\"A NumPy version >={np_minversion} and <{np_maxversion}\"\n",
     "output_type": "stream"
    },
    {
     "name": "stdout",
     "text": "[nltk_data] Downloading package wordnet to /usr/share/nltk_data...\n[nltk_data]   Package wordnet is already up-to-date!\n[nltk_data] Downloading package punkt to /usr/share/nltk_data...\n[nltk_data]   Package punkt is already up-to-date!\n",
     "output_type": "stream"
    },
    {
     "execution_count": 2,
     "output_type": "execute_result",
     "data": {
      "text/plain": "True"
     },
     "metadata": {}
    }
   ]
  },
  {
   "cell_type": "code",
   "source": [
    "# Set device\n",
    "device = torch.device(\"cuda\" if torch.cuda.is_available() else \"cpu\")"
   ],
   "metadata": {
    "execution": {
     "iopub.status.busy": "2023-05-18T12:13:04.135184Z",
     "iopub.execute_input": "2023-05-18T12:13:04.136316Z",
     "iopub.status.idle": "2023-05-18T12:13:04.172087Z",
     "shell.execute_reply.started": "2023-05-18T12:13:04.136277Z",
     "shell.execute_reply": "2023-05-18T12:13:04.170758Z"
    },
    "trusted": true
   },
   "execution_count": 3,
   "outputs": []
  },
  {
   "cell_type": "code",
   "source": [
    "# Load the models and tokenizers\n",
    "prophetnet_model = ProphetNetForConditionalGeneration.from_pretrained('microsoft/prophetnet-large-uncased-cnndm').to(device)\n",
    "prophetnet_tokenizer = ProphetNetTokenizer.from_pretrained('microsoft/prophetnet-large-uncased-cnndm')\n",
    "\n",
    "pegasus_model = PegasusForConditionalGeneration.from_pretrained('google/pegasus-cnn_dailymail').to(device)\n",
    "pegasus_tokenizer = PegasusTokenizer.from_pretrained('google/pegasus-cnn_dailymail')\n",
    "\n",
    "bart_model = BartForConditionalGeneration.from_pretrained('facebook/bart-large-cnn').to(device)\n",
    "bart_tokenizer = BartTokenizer.from_pretrained('facebook/bart-large-cnn')"
   ],
   "metadata": {
    "execution": {
     "iopub.status.busy": "2023-05-18T12:13:04.175033Z",
     "iopub.execute_input": "2023-05-18T12:13:04.175672Z",
     "iopub.status.idle": "2023-05-18T12:15:22.991916Z",
     "shell.execute_reply.started": "2023-05-18T12:13:04.175637Z",
     "shell.execute_reply": "2023-05-18T12:15:22.990942Z"
    },
    "trusted": true
   },
   "execution_count": 4,
   "outputs": [
    {
     "output_type": "display_data",
     "data": {
      "text/plain": "Downloading (…)lve/main/config.json:   0%|          | 0.00/1.24k [00:00<?, ?B/s]",
      "application/vnd.jupyter.widget-view+json": {
       "version_major": 2,
       "version_minor": 0,
       "model_id": "5ca7af5d3f434d16b2f196e23857245e"
      }
     },
     "metadata": {}
    },
    {
     "output_type": "display_data",
     "data": {
      "text/plain": "Downloading pytorch_model.bin:   0%|          | 0.00/1.57G [00:00<?, ?B/s]",
      "application/vnd.jupyter.widget-view+json": {
       "version_major": 2,
       "version_minor": 0,
       "model_id": "8f8bd0caa2b3451c9553fb746fc594ff"
      }
     },
     "metadata": {}
    },
    {
     "output_type": "display_data",
     "data": {
      "text/plain": "Downloading (…)neration_config.json:   0%|          | 0.00/174 [00:00<?, ?B/s]",
      "application/vnd.jupyter.widget-view+json": {
       "version_major": 2,
       "version_minor": 0,
       "model_id": "3f2608269baa4e2c8cceccaa1cfc3d58"
      }
     },
     "metadata": {}
    },
    {
     "output_type": "display_data",
     "data": {
      "text/plain": "Downloading (…)prophetnet.tokenizer:   0%|          | 0.00/232k [00:00<?, ?B/s]",
      "application/vnd.jupyter.widget-view+json": {
       "version_major": 2,
       "version_minor": 0,
       "model_id": "39d2e64c0243489f9d27b1e9c700b48d"
      }
     },
     "metadata": {}
    },
    {
     "output_type": "display_data",
     "data": {
      "text/plain": "Downloading (…)cial_tokens_map.json:   0%|          | 0.00/112 [00:00<?, ?B/s]",
      "application/vnd.jupyter.widget-view+json": {
       "version_major": 2,
       "version_minor": 0,
       "model_id": "1f059529471749c3b33464380d58501c"
      }
     },
     "metadata": {}
    },
    {
     "output_type": "display_data",
     "data": {
      "text/plain": "Downloading (…)okenizer_config.json:   0%|          | 0.00/256 [00:00<?, ?B/s]",
      "application/vnd.jupyter.widget-view+json": {
       "version_major": 2,
       "version_minor": 0,
       "model_id": "bddf15471ff3481bbc065f4cff7200a9"
      }
     },
     "metadata": {}
    },
    {
     "output_type": "display_data",
     "data": {
      "text/plain": "Downloading (…)lve/main/config.json:   0%|          | 0.00/1.12k [00:00<?, ?B/s]",
      "application/vnd.jupyter.widget-view+json": {
       "version_major": 2,
       "version_minor": 0,
       "model_id": "5a6efd553d14454fb261678f6de3b968"
      }
     },
     "metadata": {}
    },
    {
     "output_type": "display_data",
     "data": {
      "text/plain": "Downloading pytorch_model.bin:   0%|          | 0.00/2.28G [00:00<?, ?B/s]",
      "application/vnd.jupyter.widget-view+json": {
       "version_major": 2,
       "version_minor": 0,
       "model_id": "84ba0476b0334264a8cadbc5f7e380c8"
      }
     },
     "metadata": {}
    },
    {
     "output_type": "display_data",
     "data": {
      "text/plain": "Downloading (…)neration_config.json:   0%|          | 0.00/280 [00:00<?, ?B/s]",
      "application/vnd.jupyter.widget-view+json": {
       "version_major": 2,
       "version_minor": 0,
       "model_id": "b65d8264feba4b2da20d2af3e8834c7f"
      }
     },
     "metadata": {}
    },
    {
     "output_type": "display_data",
     "data": {
      "text/plain": "Downloading (…)ve/main/spiece.model:   0%|          | 0.00/1.91M [00:00<?, ?B/s]",
      "application/vnd.jupyter.widget-view+json": {
       "version_major": 2,
       "version_minor": 0,
       "model_id": "d7f57d9abd774fba8f7a8f61722eb6e1"
      }
     },
     "metadata": {}
    },
    {
     "output_type": "display_data",
     "data": {
      "text/plain": "Downloading (…)cial_tokens_map.json:   0%|          | 0.00/65.0 [00:00<?, ?B/s]",
      "application/vnd.jupyter.widget-view+json": {
       "version_major": 2,
       "version_minor": 0,
       "model_id": "833de21d42df48febfe78aa438676788"
      }
     },
     "metadata": {}
    },
    {
     "output_type": "display_data",
     "data": {
      "text/plain": "Downloading (…)okenizer_config.json:   0%|          | 0.00/88.0 [00:00<?, ?B/s]",
      "application/vnd.jupyter.widget-view+json": {
       "version_major": 2,
       "version_minor": 0,
       "model_id": "d811c96420cf4a058a957bc61f3871c2"
      }
     },
     "metadata": {}
    },
    {
     "output_type": "display_data",
     "data": {
      "text/plain": "Downloading (…)lve/main/config.json:   0%|          | 0.00/1.58k [00:00<?, ?B/s]",
      "application/vnd.jupyter.widget-view+json": {
       "version_major": 2,
       "version_minor": 0,
       "model_id": "88e9b071909642e890d710b5623a5f2e"
      }
     },
     "metadata": {}
    },
    {
     "output_type": "display_data",
     "data": {
      "text/plain": "Downloading pytorch_model.bin:   0%|          | 0.00/1.63G [00:00<?, ?B/s]",
      "application/vnd.jupyter.widget-view+json": {
       "version_major": 2,
       "version_minor": 0,
       "model_id": "242340b67bae4e41827a18d6e2370bd0"
      }
     },
     "metadata": {}
    },
    {
     "output_type": "display_data",
     "data": {
      "text/plain": "Downloading (…)neration_config.json:   0%|          | 0.00/363 [00:00<?, ?B/s]",
      "application/vnd.jupyter.widget-view+json": {
       "version_major": 2,
       "version_minor": 0,
       "model_id": "3dc3453fb8c949f1b318b40c77e3da8a"
      }
     },
     "metadata": {}
    },
    {
     "output_type": "display_data",
     "data": {
      "text/plain": "Downloading (…)olve/main/vocab.json:   0%|          | 0.00/899k [00:00<?, ?B/s]",
      "application/vnd.jupyter.widget-view+json": {
       "version_major": 2,
       "version_minor": 0,
       "model_id": "8978a2a5d3654fcd806ad74307be276d"
      }
     },
     "metadata": {}
    },
    {
     "output_type": "display_data",
     "data": {
      "text/plain": "Downloading (…)olve/main/merges.txt:   0%|          | 0.00/456k [00:00<?, ?B/s]",
      "application/vnd.jupyter.widget-view+json": {
       "version_major": 2,
       "version_minor": 0,
       "model_id": "1630ac1ef3674b2199ad96b866c43c9d"
      }
     },
     "metadata": {}
    }
   ]
  },
  {
   "cell_type": "code",
   "source": [
    "# Load CNN/Daily Mail dataset\n",
    "dataset = load_dataset('cnn_dailymail', '3.0.0', split='validation')"
   ],
   "metadata": {
    "execution": {
     "iopub.status.busy": "2023-05-18T12:15:22.996787Z",
     "iopub.execute_input": "2023-05-18T12:15:22.999124Z",
     "iopub.status.idle": "2023-05-18T12:18:31.158497Z",
     "shell.execute_reply.started": "2023-05-18T12:15:22.999089Z",
     "shell.execute_reply": "2023-05-18T12:18:31.157394Z"
    },
    "trusted": true
   },
   "execution_count": 5,
   "outputs": [
    {
     "output_type": "display_data",
     "data": {
      "text/plain": "Downloading builder script:   0%|          | 0.00/3.51k [00:00<?, ?B/s]",
      "application/vnd.jupyter.widget-view+json": {
       "version_major": 2,
       "version_minor": 0,
       "model_id": "399427d5142c4ec4996fe10f0f94728a"
      }
     },
     "metadata": {}
    },
    {
     "output_type": "display_data",
     "data": {
      "text/plain": "Downloading metadata:   0%|          | 0.00/1.61k [00:00<?, ?B/s]",
      "application/vnd.jupyter.widget-view+json": {
       "version_major": 2,
       "version_minor": 0,
       "model_id": "fa69e6f9623b431d9f2a3442b69f278e"
      }
     },
     "metadata": {}
    },
    {
     "name": "stdout",
     "text": "Downloading and preparing dataset cnn_dailymail/3.0.0 (download: 558.32 MiB, generated: 1.28 GiB, post-processed: Unknown size, total: 1.82 GiB) to /root/.cache/huggingface/datasets/cnn_dailymail/3.0.0/3.0.0/3cb851bf7cf5826e45d49db2863f627cba583cbc32342df7349dfe6c38060234...\n",
     "output_type": "stream"
    },
    {
     "output_type": "display_data",
     "data": {
      "text/plain": "Downloading data files:   0%|          | 0/5 [00:00<?, ?it/s]",
      "application/vnd.jupyter.widget-view+json": {
       "version_major": 2,
       "version_minor": 0,
       "model_id": "cd22dbcbd8b643f78d881432baf98b64"
      }
     },
     "metadata": {}
    },
    {
     "output_type": "display_data",
     "data": {
      "text/plain": "Downloading data:   0%|          | 0.00/159M [00:00<?, ?B/s]",
      "application/vnd.jupyter.widget-view+json": {
       "version_major": 2,
       "version_minor": 0,
       "model_id": "7bab14f547d84b6bb63ec03ecc89cba2"
      }
     },
     "metadata": {}
    },
    {
     "output_type": "display_data",
     "data": {
      "text/plain": "Downloading data:   0%|          | 0.00/376M [00:00<?, ?B/s]",
      "application/vnd.jupyter.widget-view+json": {
       "version_major": 2,
       "version_minor": 0,
       "model_id": "257f9a6bf9de439186631768f7912f80"
      }
     },
     "metadata": {}
    },
    {
     "output_type": "display_data",
     "data": {
      "text/plain": "Downloading data:   0%|          | 0.00/572k [00:00<?, ?B/s]",
      "application/vnd.jupyter.widget-view+json": {
       "version_major": 2,
       "version_minor": 0,
       "model_id": "44431da4168247c98cb70a2e1758f020"
      }
     },
     "metadata": {}
    },
    {
     "output_type": "display_data",
     "data": {
      "text/plain": "Downloading data:   0%|          | 0.00/12.3M [00:00<?, ?B/s]",
      "application/vnd.jupyter.widget-view+json": {
       "version_major": 2,
       "version_minor": 0,
       "model_id": "90e3181e4f6c4ba1b6f6bcfed94cabf4"
      }
     },
     "metadata": {}
    },
    {
     "output_type": "display_data",
     "data": {
      "text/plain": "Downloading data:   0%|          | 0.00/661k [00:00<?, ?B/s]",
      "application/vnd.jupyter.widget-view+json": {
       "version_major": 2,
       "version_minor": 0,
       "model_id": "47b0ec7c7d364e548b696aad1f958762"
      }
     },
     "metadata": {}
    },
    {
     "output_type": "display_data",
     "data": {
      "text/plain": "Extracting data files:   0%|          | 0/5 [00:00<?, ?it/s]",
      "application/vnd.jupyter.widget-view+json": {
       "version_major": 2,
       "version_minor": 0,
       "model_id": "2009948370674469b1b681e98d40dd82"
      }
     },
     "metadata": {}
    },
    {
     "output_type": "display_data",
     "data": {
      "text/plain": "Generating train split:   0%|          | 0/287113 [00:00<?, ? examples/s]",
      "application/vnd.jupyter.widget-view+json": {
       "version_major": 2,
       "version_minor": 0,
       "model_id": ""
      }
     },
     "metadata": {}
    },
    {
     "output_type": "display_data",
     "data": {
      "text/plain": "Generating validation split:   0%|          | 0/13368 [00:00<?, ? examples/s]",
      "application/vnd.jupyter.widget-view+json": {
       "version_major": 2,
       "version_minor": 0,
       "model_id": ""
      }
     },
     "metadata": {}
    },
    {
     "output_type": "display_data",
     "data": {
      "text/plain": "Generating test split:   0%|          | 0/11490 [00:00<?, ? examples/s]",
      "application/vnd.jupyter.widget-view+json": {
       "version_major": 2,
       "version_minor": 0,
       "model_id": ""
      }
     },
     "metadata": {}
    },
    {
     "name": "stdout",
     "text": "Dataset cnn_dailymail downloaded and prepared to /root/.cache/huggingface/datasets/cnn_dailymail/3.0.0/3.0.0/3cb851bf7cf5826e45d49db2863f627cba583cbc32342df7349dfe6c38060234. Subsequent calls will reuse this data.\n",
     "output_type": "stream"
    }
   ]
  },
  {
   "cell_type": "code",
   "source": [
    "def calculate_rouge_scores(hypotheses, references):\n",
    "    \"\"\"calculate rouge\"\"\"\n",
    "    rouge_metric = load_metric('rouge')\n",
    "    rouge_output = rouge_metric.compute(predictions=hypotheses, references=references)\n",
    "    rouge_scores = rouge_output['rouge1'].mid.fmeasure, rouge_output['rouge2'].mid.fmeasure, rouge_output['rougeL'].mid.fmeasure\n",
    "    return rouge_scores\n",
    "\n",
    "\n",
    "def calculate_bleu_score(hypotheses, references):\n",
    "    \"\"\"calculate bleu\"\"\"\n",
    "    bleu = corpus_bleu([[tgt] for tgt in references], hypotheses)\n",
    "    return bleu\n",
    "\n",
    "\n",
    "def generate_summaries(model, tokenizer, dataset):\n",
    "    \"\"\"Function to generate summaries using a model and tokenizer\"\"\"\n",
    "    summaries = []\n",
    "    for example in dataset:\n",
    "        inputs = tokenizer.encode(example['article'], truncation=True, max_length=512, padding='longest', return_tensors='pt')\n",
    "        input_ids = inputs.to(model.device)\n",
    "        summary_ids = model.generate(input_ids, num_beams=4, max_length=128, early_stopping=True)\n",
    "        summary = tokenizer.decode(summary_ids.squeeze(), skip_special_tokens=True)\n",
    "        summaries.append(summary)\n",
    "    return summaries"
   ],
   "metadata": {
    "execution": {
     "iopub.status.busy": "2023-05-18T12:18:31.159982Z",
     "iopub.execute_input": "2023-05-18T12:18:31.161504Z",
     "iopub.status.idle": "2023-05-18T12:18:31.173816Z",
     "shell.execute_reply.started": "2023-05-18T12:18:31.161466Z",
     "shell.execute_reply": "2023-05-18T12:18:31.169616Z"
    },
    "trusted": true
   },
   "execution_count": 6,
   "outputs": []
  },
  {
   "cell_type": "code",
   "source": [
    "# Define the number of examples to use\n",
    "num_examples = 200  \n",
    "\n",
    "# Select a subset of examples from the dataset\n",
    "subset_dataset = dataset.select(range(num_examples))"
   ],
   "metadata": {
    "execution": {
     "iopub.status.busy": "2023-05-18T12:18:31.175115Z",
     "iopub.execute_input": "2023-05-18T12:18:31.175690Z",
     "iopub.status.idle": "2023-05-18T12:18:31.260266Z",
     "shell.execute_reply.started": "2023-05-18T12:18:31.175654Z",
     "shell.execute_reply": "2023-05-18T12:18:31.259279Z"
    },
    "trusted": true
   },
   "execution_count": 7,
   "outputs": []
  },
  {
   "cell_type": "markdown",
   "source": [
    "# Perform summarization using each model"
   ],
   "metadata": {}
  },
  {
   "cell_type": "code",
   "source": [
    "start_time = time.time()\n",
    "prophetnet_summaries = generate_summaries(prophetnet_model, prophetnet_tokenizer, subset_dataset)\n",
    "end_time = time.time()\n",
    "prophetnet_eval_time = end_time - start_time"
   ],
   "metadata": {
    "execution": {
     "iopub.status.busy": "2023-05-18T12:18:31.263865Z",
     "iopub.execute_input": "2023-05-18T12:18:31.264267Z",
     "iopub.status.idle": "2023-05-18T12:24:51.137399Z",
     "shell.execute_reply.started": "2023-05-18T12:18:31.264215Z",
     "shell.execute_reply": "2023-05-18T12:24:51.136411Z"
    },
    "trusted": true
   },
   "execution_count": 8,
   "outputs": []
  },
  {
   "cell_type": "code",
   "source": [
    "start_time = time.time()\n",
    "pegasus_summaries = generate_summaries(pegasus_model, pegasus_tokenizer, subset_dataset)\n",
    "end_time = time.time()\n",
    "pegasus_eval_time = end_time - start_time"
   ],
   "metadata": {
    "execution": {
     "iopub.status.busy": "2023-05-18T12:24:51.138964Z",
     "iopub.execute_input": "2023-05-18T12:24:51.139341Z",
     "iopub.status.idle": "2023-05-18T12:27:54.421516Z",
     "shell.execute_reply.started": "2023-05-18T12:24:51.139303Z",
     "shell.execute_reply": "2023-05-18T12:27:54.420529Z"
    },
    "trusted": true
   },
   "execution_count": 9,
   "outputs": []
  },
  {
   "cell_type": "code",
   "source": [
    "start_time = time.time()\n",
    "bart_summaries = generate_summaries(bart_model, bart_tokenizer, subset_dataset)\n",
    "end_time = time.time()\n",
    "bart_eval_time = end_time - start_time"
   ],
   "metadata": {
    "execution": {
     "iopub.status.busy": "2023-05-18T12:27:54.424912Z",
     "iopub.execute_input": "2023-05-18T12:27:54.425754Z",
     "iopub.status.idle": "2023-05-18T12:31:04.187602Z",
     "shell.execute_reply.started": "2023-05-18T12:27:54.425718Z",
     "shell.execute_reply": "2023-05-18T12:31:04.186505Z"
    },
    "trusted": true
   },
   "execution_count": 10,
   "outputs": []
  },
  {
   "cell_type": "markdown",
   "source": [
    "# Calculate ROUGE and BLEU scores"
   ],
   "metadata": {}
  },
  {
   "cell_type": "code",
   "source": [
    "references = subset_dataset['highlights']"
   ],
   "metadata": {
    "execution": {
     "iopub.status.busy": "2023-05-18T12:31:04.189031Z",
     "iopub.execute_input": "2023-05-18T12:31:04.189411Z",
     "iopub.status.idle": "2023-05-18T12:31:04.199278Z",
     "shell.execute_reply.started": "2023-05-18T12:31:04.189375Z",
     "shell.execute_reply": "2023-05-18T12:31:04.198318Z"
    },
    "trusted": true
   },
   "execution_count": 11,
   "outputs": []
  },
  {
   "cell_type": "code",
   "source": [
    "rouge_scores_prophetnet = calculate_rouge_scores(prophetnet_summaries, references)\n",
    "rouge_scores_pegasus = calculate_rouge_scores(pegasus_summaries, references)\n",
    "rouge_scores_bart = calculate_rouge_scores(bart_summaries, references)"
   ],
   "metadata": {
    "execution": {
     "iopub.status.busy": "2023-05-18T12:31:04.200901Z",
     "iopub.execute_input": "2023-05-18T12:31:04.201468Z",
     "iopub.status.idle": "2023-05-18T12:31:06.971204Z",
     "shell.execute_reply.started": "2023-05-18T12:31:04.201433Z",
     "shell.execute_reply": "2023-05-18T12:31:06.970205Z"
    },
    "trusted": true
   },
   "execution_count": 12,
   "outputs": [
    {
     "output_type": "display_data",
     "data": {
      "text/plain": "Downloading builder script:   0%|          | 0.00/2.16k [00:00<?, ?B/s]",
      "application/vnd.jupyter.widget-view+json": {
       "version_major": 2,
       "version_minor": 0,
       "model_id": "7b576ec0899e4dbe87c1a7541c57b534"
      }
     },
     "metadata": {}
    }
   ]
  },
  {
   "cell_type": "code",
   "source": [
    "bleu_score_prophetnet = calculate_bleu_score(prophetnet_summaries, references)\n",
    "bleu_score_pegasus = calculate_bleu_score(pegasus_summaries, references)\n",
    "bleu_score_bart = calculate_bleu_score(bart_summaries, references)"
   ],
   "metadata": {
    "execution": {
     "iopub.status.busy": "2023-05-18T12:31:06.972839Z",
     "iopub.execute_input": "2023-05-18T12:31:06.973271Z",
     "iopub.status.idle": "2023-05-18T12:31:07.727909Z",
     "shell.execute_reply.started": "2023-05-18T12:31:06.973210Z",
     "shell.execute_reply": "2023-05-18T12:31:07.726967Z"
    },
    "trusted": true
   },
   "execution_count": 13,
   "outputs": []
  },
  {
   "cell_type": "code",
   "source": [
    "prophetnet_model_size = prophetnet_model.num_parameters()\n",
    "pegasus_model_size = pegasus_model.num_parameters()\n",
    "bart_model_size = bart_model.num_parameters()"
   ],
   "metadata": {
    "execution": {
     "iopub.status.busy": "2023-05-18T12:31:07.729379Z",
     "iopub.execute_input": "2023-05-18T12:31:07.729722Z",
     "iopub.status.idle": "2023-05-18T12:31:07.742674Z",
     "shell.execute_reply.started": "2023-05-18T12:31:07.729689Z",
     "shell.execute_reply": "2023-05-18T12:31:07.741626Z"
    },
    "trusted": true
   },
   "execution_count": 14,
   "outputs": []
  },
  {
   "cell_type": "markdown",
   "source": [
    "# Results"
   ],
   "metadata": {}
  },
  {
   "cell_type": "code",
   "source": [
    "data = {\n",
    "    'Model Name': ['ProphetNet', 'Pegasus', 'BART'],\n",
    "    'Number of Parameters': [prophetnet_model_size, pegasus_model_size, bart_model_size],\n",
    "    'Evaluation Time(seconds)': [prophetnet_eval_time, pegasus_eval_time, bart_eval_time],\n",
    "    'ROUGE_1 Score': [rouge_scores_prophetnet[0], rouge_scores_pegasus[0], rouge_scores_bart[0]],\n",
    "    'ROUGE_2 Score': [rouge_scores_prophetnet[1], rouge_scores_pegasus[1], rouge_scores_bart[1]],\n",
    "    'ROUGE_L Score': [rouge_scores_prophetnet[2], rouge_scores_pegasus[2], rouge_scores_bart[2]],\n",
    "    'BLEU Score': [bleu_score_prophetnet, bleu_score_pegasus, bleu_score_bart]\n",
    "}\n",
    "\n",
    "df = pd.DataFrame(data)\n",
    "df['Number of Parameters'] = df['Number of Parameters'].astype(str).str[:3] + '_' + df['Number of Parameters'].astype(str).str[3:6] + '_' + df['Number of Parameters'].astype(str).str[6:]"
   ],
   "metadata": {
    "execution": {
     "iopub.status.busy": "2023-05-18T12:31:07.744258Z",
     "iopub.execute_input": "2023-05-18T12:31:07.744610Z",
     "iopub.status.idle": "2023-05-18T12:31:07.773579Z",
     "shell.execute_reply.started": "2023-05-18T12:31:07.744579Z",
     "shell.execute_reply": "2023-05-18T12:31:07.772667Z"
    },
    "trusted": true
   },
   "execution_count": 15,
   "outputs": []
  },
  {
   "cell_type": "code",
   "source": [
    "df"
   ],
   "metadata": {
    "execution": {
     "iopub.status.busy": "2023-05-18T12:31:07.776876Z",
     "iopub.execute_input": "2023-05-18T12:31:07.777715Z",
     "iopub.status.idle": "2023-05-18T12:31:07.795125Z",
     "shell.execute_reply.started": "2023-05-18T12:31:07.777681Z",
     "shell.execute_reply": "2023-05-18T12:31:07.794185Z"
    },
    "trusted": true
   },
   "execution_count": 16,
   "outputs": [
    {
     "execution_count": 16,
     "output_type": "execute_result",
     "data": {
      "text/plain": "   Model Name Number of Parameters  Evaluation Time(seconds)  ROUGE_1 Score  \\\n0  ProphetNet          391_321_600                379.865871       0.319703   \n1     Pegasus          570_797_056                183.277522       0.337056   \n2        BART          406_290_432                189.757440       0.333951   \n\n   ROUGE_2 Score  ROUGE_L Score  BLEU Score  \n0       0.138156       0.245167    0.381612  \n1       0.142803       0.250090    0.452055  \n2       0.143113       0.249003    0.365206  ",
      "text/html": "<div>\n<style scoped>\n    .dataframe tbody tr th:only-of-type {\n        vertical-align: middle;\n    }\n\n    .dataframe tbody tr th {\n        vertical-align: top;\n    }\n\n    .dataframe thead th {\n        text-align: right;\n    }\n</style>\n<table border=\"1\" class=\"dataframe\">\n  <thead>\n    <tr style=\"text-align: right;\">\n      <th></th>\n      <th>Model Name</th>\n      <th>Number of Parameters</th>\n      <th>Evaluation Time(seconds)</th>\n      <th>ROUGE_1 Score</th>\n      <th>ROUGE_2 Score</th>\n      <th>ROUGE_L Score</th>\n      <th>BLEU Score</th>\n    </tr>\n  </thead>\n  <tbody>\n    <tr>\n      <th>0</th>\n      <td>ProphetNet</td>\n      <td>391_321_600</td>\n      <td>379.865871</td>\n      <td>0.319703</td>\n      <td>0.138156</td>\n      <td>0.245167</td>\n      <td>0.381612</td>\n    </tr>\n    <tr>\n      <th>1</th>\n      <td>Pegasus</td>\n      <td>570_797_056</td>\n      <td>183.277522</td>\n      <td>0.337056</td>\n      <td>0.142803</td>\n      <td>0.250090</td>\n      <td>0.452055</td>\n    </tr>\n    <tr>\n      <th>2</th>\n      <td>BART</td>\n      <td>406_290_432</td>\n      <td>189.757440</td>\n      <td>0.333951</td>\n      <td>0.143113</td>\n      <td>0.249003</td>\n      <td>0.365206</td>\n    </tr>\n  </tbody>\n</table>\n</div>"
     },
     "metadata": {}
    }
   ]
  }
 ]
}
